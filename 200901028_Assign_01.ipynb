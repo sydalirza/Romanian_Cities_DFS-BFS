{
 "cells": [
  {
   "cell_type": "code",
   "execution_count": 1,
   "id": "cdba0472",
   "metadata": {},
   "outputs": [],
   "source": [
    "graph = {\n",
    "    \"Arad\": {\"Zerind\": 75, \"Timisoara\": 118, \"Sibiu\": 140},\n",
    "    \"Oradea\": {\"Zerind\": 71, \"Sibiu\": 151},\n",
    "    \"Zerind\": {\"Oradea\": 71, \"Arad\": 75},\n",
    "    \"Timisoara\": {\"Arad\": 118, \"Lugoj\": 111},\n",
    "    \"Lugoj\": {\"Timisoara\": 118, \"Mehadia\": 70},\n",
    "    \"Mehadia\": {\"Lugoj\": 70, \"Dobreta\": 75},\n",
    "    \"Dobreta\": {\"Mehadia\": 75, \"Craiova\": 120},\n",
    "    \"Craiova\": {\"Rimnicu Vilcea\": 146, \"Pitesti\": 138},\n",
    "    \"Rimnicu Vilcea\": {\"Craiova\": 146, \"Pitesti\": 97, \"Sibiu\": 80},\n",
    "    \"Pitesti\": {\"Rimnicu Vilcea\": 97, \"Craiova\": 138, \"Bucharest\": 101},\n",
    "    \"Sibiu\": {\"Arad\": 140, \"Oradea\": 151, \"Fagarus\": 99, \"Rimnicu Vilcea\": 80},\n",
    "    \"Fagarus\": {\"Sibiu\": 99, \"Bucharest\": 211},\n",
    "    \"Bucharest\": {\"Pitesti\": 97, \"Urziceni\": 85, \"Giurgui\": 90, \"Fagarus\": 211},\n",
    "    \"Giurgui\": {\"Bucharest\": 90},\n",
    "    \"Urziceni\": {\"Hirsova\": 98, \"Bucharest\": 85, \"Vaslui\": 142},\n",
    "    \"Hirsova\": {\"Urziceni\": 98, \"Eforie\": 86},\n",
    "    \"Vaslui\": {\"Iasi\": 92},\n",
    "    \"Iasi\": {\"Vaslui\": 92, \"Neamt\": 87},\n",
    "    \"Neamt\": {\"Iasi\": 87},\n",
    "    \"Eforie\": {\"Hirsova\": 86}\n",
    "}"
   ]
  },
  {
   "cell_type": "code",
   "execution_count": 2,
   "id": "338abadf",
   "metadata": {},
   "outputs": [],
   "source": [
    "DFS_result = 0\n",
    "BFS_result = 0"
   ]
  },
  {
   "cell_type": "code",
   "execution_count": 3,
   "id": "71ea0cd4",
   "metadata": {},
   "outputs": [],
   "source": [
    "def depth_first_search(graph, start, goal, visited = None):\n",
    "    if visited is None:\n",
    "        visited = set()\n",
    "    visited.add(start)\n",
    "    \n",
    "    if start == goal:\n",
    "        return [start], 0\n",
    "    \n",
    "    shortest_path = None\n",
    "    shortest_distance = float(\"inf\")\n",
    "    for neighbor in graph[start]:\n",
    "        if neighbor not in visited:\n",
    "            path, distance = depth_first_search(graph, neighbor, goal, visited)\n",
    "            if path:\n",
    "                if distance + graph[start][neighbor] < shortest_distance:\n",
    "                    shortest_path = [start] + path\n",
    "                    shortest_distance = distance + graph[start][neighbor]\n",
    "    DFS_result = shortest_distance\n",
    "    return shortest_path, shortest_distance"
   ]
  },
  {
   "cell_type": "code",
   "execution_count": 4,
   "id": "d9d48cb8",
   "metadata": {},
   "outputs": [],
   "source": [
    "def breadth_first_search(graph, start, goal):\n",
    "    queue = [(start, [start], 0)]\n",
    "    shortest_path = None\n",
    "    shortest_distance = float(\"inf\")\n",
    "\n",
    "    while queue:\n",
    "        node, path, distance = queue.pop(0)\n",
    "        if node == goal:\n",
    "            if distance < shortest_distance:\n",
    "                shortest_distance = distance\n",
    "                shortest_path = path\n",
    "        for neighbor in graph[node]:\n",
    "            if neighbor not in path:\n",
    "                queue.append((neighbor, path + [neighbor], distance + graph[node][neighbor]))\n",
    "    BFS_result = shortest_distance\n",
    "    return shortest_path, shortest_distance\n"
   ]
  },
  {
   "cell_type": "code",
   "execution_count": 5,
   "id": "b53e2d15",
   "metadata": {},
   "outputs": [],
   "source": [
    "source = \"Arad\"\n",
    "goal = \"Bucharest\""
   ]
  },
  {
   "cell_type": "code",
   "execution_count": 6,
   "id": "78a183e5",
   "metadata": {},
   "outputs": [
    {
     "name": "stdout",
     "output_type": "stream",
     "text": [
      "DFS (['Arad', 'Zerind', 'Oradea', 'Sibiu', 'Fagarus', 'Bucharest'], 607)\n",
      "BFS (['Arad', 'Sibiu', 'Rimnicu Vilcea', 'Pitesti', 'Bucharest'], 418)\n"
     ]
    }
   ],
   "source": [
    "print(\"DFS\", depth_first_search(graph, source, goal))\n",
    "print(\"BFS\", breadth_first_search(graph, source, goal))"
   ]
  },
  {
   "cell_type": "code",
   "execution_count": 7,
   "id": "319dd61f",
   "metadata": {},
   "outputs": [
    {
     "name": "stdout",
     "output_type": "stream",
     "text": [
      "BFS gives the most optimised result\n"
     ]
    }
   ],
   "source": [
    "if (DFS_result > BFS_result):\n",
    "    print(\"DFS gives the most optimised result\")\n",
    "else:\n",
    "    print(\"BFS gives the most optimised result\")\n"
   ]
  }
 ],
 "metadata": {
  "kernelspec": {
   "display_name": "Python 3 (ipykernel)",
   "language": "python",
   "name": "python3"
  },
  "language_info": {
   "codemirror_mode": {
    "name": "ipython",
    "version": 3
   },
   "file_extension": ".py",
   "mimetype": "text/x-python",
   "name": "python",
   "nbconvert_exporter": "python",
   "pygments_lexer": "ipython3",
   "version": "3.9.13"
  }
 },
 "nbformat": 4,
 "nbformat_minor": 5
}
